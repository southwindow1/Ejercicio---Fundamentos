{
 "cells": [
  {
   "cell_type": "code",
   "execution_count": 38,
   "id": "f0c29b50",
   "metadata": {},
   "outputs": [
    {
     "name": "stdout",
     "output_type": "stream",
     "text": [
      "Bienvenido\n",
      "¿Cómo te llamas?:Ricardo\n",
      "Introduce tu edad:41\n",
      "<class 'int'>\n",
      "Introduce tu estatura Ej.'1.60':1.71\n",
      "<class 'float'>\n",
      "Ricardo\n",
      "<class 'str'>\n",
      "Gracias por tu información\n"
     ]
    }
   ],
   "source": [
    "print(\"Bienvenido\")\n",
    "Nombre=input(\"¿Cómo te llamas?:\")\n",
    "Edad = int(input(\"Introduce tu edad:\"))\n",
    "print(type(Edad))\n",
    "Altura = float(input(\"Introduce tu estatura Ej.'1.60':\"))\n",
    "print(type(Altura))\n",
    "my_string = (Nombre)\n",
    "print(my_string)\n",
    "print(type(my_string))\n",
    "print(\"Gracias por tu información\")"
   ]
  },
  {
   "cell_type": "code",
   "execution_count": null,
   "id": "abe44c6a",
   "metadata": {},
   "outputs": [],
   "source": []
  }
 ],
 "metadata": {
  "kernelspec": {
   "display_name": "Python 3 (ipykernel)",
   "language": "python",
   "name": "python3"
  },
  "language_info": {
   "codemirror_mode": {
    "name": "ipython",
    "version": 3
   },
   "file_extension": ".py",
   "mimetype": "text/x-python",
   "name": "python",
   "nbconvert_exporter": "python",
   "pygments_lexer": "ipython3",
   "version": "3.9.13"
  }
 },
 "nbformat": 4,
 "nbformat_minor": 5
}
